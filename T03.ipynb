{
 "cells": [
  {
   "cell_type": "markdown",
   "metadata": {},
   "source": [
    "# Boolean expressions\n",
    "The following uses *Boolean* operations. What do you think, the following snippets are doing? Check by executing. "
   ]
  },
  {
   "cell_type": "code",
   "execution_count": 1,
   "metadata": {},
   "outputs": [
    {
     "name": "stdout",
     "output_type": "stream",
     "text": [
      "[1, 5, 7]\n"
     ]
    }
   ],
   "source": [
    "mylist = []\n",
    "for k in range(10):\n",
    "    if not (k % 2 == 0 or k % 3 == 0):\n",
    "        mylist.append(k)\n",
    "print(mylist)\n",
    "# loop through each value from 0 to 9 inclusive\n",
    "# if it cannot be evenly divided by 2 or 3 then add to list"
   ]
  },
  {
   "cell_type": "code",
   "execution_count": 7,
   "metadata": {},
   "outputs": [
    {
     "name": "stdout",
     "output_type": "stream",
     "text": [
      "5 is true\n"
     ]
    }
   ],
   "source": [
    "if 5:\n",
    "    print(\"5 is true\")\n",
    "else:\n",
    "    print(\"5 is false\")\n",
    "# \"if 5:\" is essentially \"5 is True\"\n",
    "# if 0 goes to false"
   ]
  },
  {
   "cell_type": "markdown",
   "metadata": {},
   "source": [
    "What changes, if you replace `5` by `0`?"
   ]
  },
  {
   "cell_type": "code",
   "execution_count": 3,
   "metadata": {},
   "outputs": [
    {
     "name": "stdout",
     "output_type": "stream",
     "text": [
      "[1, 5, 7]\n"
     ]
    }
   ],
   "source": [
    "mylist = []\n",
    "for k in range(10):\n",
    "    if (k % 2) and (k % 3):\n",
    "        mylist.append(k)\n",
    "print(mylist)\n",
    "# if not 0 is the same as True\n",
    "# if 0 is the same as False\n",
    "# if False both times then add to list\n",
    "# only returning a list of items that are not divisible by 2 or 3"
   ]
  },
  {
   "cell_type": "markdown",
   "metadata": {},
   "source": [
    "Explain, how this works!"
   ]
  },
  {
   "cell_type": "markdown",
   "metadata": {},
   "source": [
    "# Divisible by three"
   ]
  },
  {
   "cell_type": "markdown",
   "metadata": {},
   "source": [
    "Write a function `divisible_by_3(n)` which has the following properties: If you call it with a number which can be divided by three, it should print out `The number xxx can be divided by three`, else it prints `The number xxx can not be divided by three`, where `xxx` is replaced by the argument with which the function was called. "
   ]
  },
  {
   "cell_type": "code",
   "execution_count": 6,
   "metadata": {
    "deletable": false,
    "nbgrader": {
     "cell_type": "code",
     "checksum": "52d8dd90a1d9462b1766d9817149eafd",
     "grade": true,
     "grade_id": "cell-bfebc8f10afd614d",
     "locked": false,
     "points": 0,
     "schema_version": 3,
     "solution": true
    }
   },
   "outputs": [
    {
     "data": {
      "text/plain": [
       "'The number 9999 can be divided by three'"
      ]
     },
     "execution_count": 6,
     "metadata": {},
     "output_type": "execute_result"
    }
   ],
   "source": [
    "# YOUR CODE HERE\n",
    "def divisible_by_3(n):\n",
    "    if not (n % 3):\n",
    "        return 'The number ' + str(n) + ' can be divided by three'\n",
    "    else:\n",
    "        return 'The number ' + str(n) + ' can not be divided by three'"
   ]
  },
  {
   "cell_type": "markdown",
   "metadata": {},
   "source": [
    "Check that your function works, by modifiying the following cell:"
   ]
  },
  {
   "cell_type": "code",
   "execution_count": 7,
   "metadata": {},
   "outputs": [
    {
     "data": {
      "text/plain": [
       "'The number 132 can be divided by three'"
      ]
     },
     "execution_count": 7,
     "metadata": {},
     "output_type": "execute_result"
    }
   ],
   "source": [
    "divisible_by_3(132)"
   ]
  },
  {
   "cell_type": "markdown",
   "metadata": {},
   "source": [
    "# Prime numbers\n",
    "\n",
    "A number is a *prime* number, if it can only be divided by itself and the number 1. Write a function `is_prime(n)` which `return`s `True` if a number is prime and `False` if this is not the case. "
   ]
  },
  {
   "cell_type": "code",
   "execution_count": 28,
   "metadata": {
    "deletable": false,
    "nbgrader": {
     "cell_type": "code",
     "checksum": "db8a1afc44c0411081814f77fa60bb48",
     "grade": true,
     "grade_id": "cell-44a5b0d61b3535b5",
     "locked": false,
     "points": 0,
     "schema_version": 3,
     "solution": true
    }
   },
   "outputs": [],
   "source": [
    "# YOUR CODE HERE\n",
    "def is_prime(n):\n",
    "    out = []\n",
    "    for i in range(1, n+1):\n",
    "        if not (n % i):\n",
    "            out += [i]\n",
    "    if len(out) > 2:\n",
    "        return False\n",
    "    return True"
   ]
  },
  {
   "cell_type": "markdown",
   "metadata": {},
   "source": [
    "Check that your program recognizes the numbers 13, 127, and $M_{19} = 2^{19}-1$ as prime numbers and $M_{67} = 2^{67}-1$ as composite. (Numbers of the type $M_p = 2^p-1$ are called *Mersenne* numbers.  They have many interesting properties and connections to perfect numbers. For more reading, see http://primes.utm.edu/mersenne/ )\n"
   ]
  },
  {
   "cell_type": "code",
   "execution_count": 32,
   "metadata": {
    "deletable": false,
    "nbgrader": {
     "cell_type": "code",
     "checksum": "33d9db0fad68d064fb84a9c0c0265938",
     "grade": true,
     "grade_id": "cell-55a0d49ceb34f02e",
     "locked": false,
     "points": 0,
     "schema_version": 3,
     "solution": true
    }
   },
   "outputs": [
    {
     "data": {
      "text/plain": [
       "True"
      ]
     },
     "execution_count": 32,
     "metadata": {},
     "output_type": "execute_result"
    }
   ],
   "source": [
    "# YOUR CODE HERE\n",
    "def Mersenne(n):\n",
    "    return 2**n - 1"
   ]
  },
  {
   "cell_type": "markdown",
   "metadata": {},
   "source": [
    "# Find all factors of a number"
   ]
  },
  {
   "cell_type": "markdown",
   "metadata": {},
   "source": [
    "Write a function `print_factors(n)` which prints out a list of all factors of a number."
   ]
  },
  {
   "cell_type": "code",
   "execution_count": 12,
   "metadata": {
    "deletable": false,
    "nbgrader": {
     "cell_type": "code",
     "checksum": "8b69ecb6c44f4aae6945e1a61b18f0ca",
     "grade": true,
     "grade_id": "cell-074d7dbf54d2028d",
     "locked": false,
     "points": 0,
     "schema_version": 3,
     "solution": true
    }
   },
   "outputs": [],
   "source": [
    "# YOUR CODE HERE\n",
    "def print_factors(n):\n",
    "    out = []\n",
    "    for i in range(1,n+1):\n",
    "        if not (n%i):\n",
    "            out += [i]\n",
    "    return out"
   ]
  },
  {
   "cell_type": "markdown",
   "metadata": {},
   "source": [
    "Test with the following lines. (Does this fulfill your expectations?)"
   ]
  },
  {
   "cell_type": "code",
   "execution_count": 19,
   "metadata": {},
   "outputs": [
    {
     "data": {
      "text/plain": [
       "[1, 524287]"
      ]
     },
     "execution_count": 19,
     "metadata": {},
     "output_type": "execute_result"
    }
   ],
   "source": [
    "print_factors(28)\n",
    "print_factors(496)\n",
    "print_factors(8128)\n",
    "print_factors(13)\n",
    "print_factors(127)\n",
    "print_factors((2**19-1))"
   ]
  },
  {
   "cell_type": "markdown",
   "metadata": {},
   "source": [
    "Modify this function to also calculate the sum of its factors (exclude the number itself from the list of factors)"
   ]
  },
  {
   "cell_type": "code",
   "execution_count": 37,
   "metadata": {
    "deletable": false,
    "nbgrader": {
     "cell_type": "code",
     "checksum": "2760a435016e4cf88f400963680f0e54",
     "grade": true,
     "grade_id": "cell-4df088cd9b8715a8",
     "locked": false,
     "points": 0,
     "schema_version": 3,
     "solution": true
    }
   },
   "outputs": [
    {
     "data": {
      "text/plain": [
       "([1, 13], 14)"
      ]
     },
     "execution_count": 37,
     "metadata": {},
     "output_type": "execute_result"
    }
   ],
   "source": [
    "# YOUR CODE HERE\n",
    "def print_factors(n):\n",
    "    out = []\n",
    "    out_sum = 0\n",
    "    for i in range(1,n+1):\n",
    "        if not (n%i):\n",
    "            out += [i]\n",
    "    for j in out[:-1]:\n",
    "        out_sum += j\n",
    "    return out, out_sum"
   ]
  },
  {
   "cell_type": "markdown",
   "metadata": {},
   "source": [
    "If the sum of factors equals the number itself, then this number is called a *perfect* number. Modify your function, so that it checks for a number being perfect. \n"
   ]
  },
  {
   "cell_type": "code",
   "execution_count": 48,
   "metadata": {
    "deletable": false,
    "nbgrader": {
     "cell_type": "code",
     "checksum": "1ee6f0c6fa7a4aa8898be64802bf312d",
     "grade": true,
     "grade_id": "cell-9de32979eeb8f29e",
     "locked": false,
     "points": 0,
     "schema_version": 3,
     "solution": true
    }
   },
   "outputs": [],
   "source": [
    "# YOUR CODE HERE\n",
    "def print_factors(n):\n",
    "    out = []\n",
    "    out_sum = 0\n",
    "    k = False\n",
    "    for i in range(1,n+1):\n",
    "        if not (n%i):\n",
    "            out += [i]\n",
    "    for j in out[:-1]:\n",
    "        out_sum += j\n",
    "    if n == out_sum:\n",
    "        k = True\n",
    "    return out, out_sum, k"
   ]
  },
  {
   "cell_type": "markdown",
   "metadata": {},
   "source": [
    "Check that your program recognizes the number 28, 496 and 8128 as perfect numbers. (In case you happen to find an *odd* perfect number, you would have solved one of the oldest problems in number theory. )"
   ]
  },
  {
   "cell_type": "code",
   "execution_count": 51,
   "metadata": {
    "deletable": false,
    "nbgrader": {
     "cell_type": "code",
     "checksum": "bed1de96847f7a724f17c3f9066f0c4a",
     "grade": true,
     "grade_id": "cell-2e365d619f605b58",
     "locked": false,
     "points": 0,
     "schema_version": 3,
     "solution": true
    }
   },
   "outputs": [
    {
     "data": {
      "text/plain": [
       "([1, 2, 4, 8, 16, 32, 64, 127, 254, 508, 1016, 2032, 4064, 8128], 8128, True)"
      ]
     },
     "execution_count": 51,
     "metadata": {},
     "output_type": "execute_result"
    }
   ],
   "source": [
    "# YOUR CODE HERE\n",
    "print_factors(28)\n",
    "print_factors(496)\n",
    "print_factors(8128)"
   ]
  },
  {
   "cell_type": "markdown",
   "metadata": {},
   "source": [
    "Check that $2^{18}(2^{19}-1)$ is a perfect number! (This is slightly more challenging, and can easily give a memory error or require a long time to complete. Rethink, how you can calculate the factors of a number. Notice that if you find one factor you get a second one without searching.)"
   ]
  },
  {
   "cell_type": "code",
   "execution_count": 55,
   "metadata": {
    "deletable": false,
    "nbgrader": {
     "cell_type": "code",
     "checksum": "6f3b48f60662df9d2271458aed5b0033",
     "grade": true,
     "grade_id": "cell-679aca27513c9a91",
     "locked": false,
     "points": 0,
     "schema_version": 3,
     "solution": true
    }
   },
   "outputs": [
    {
     "data": {
      "text/plain": [
       "137438691328"
      ]
     },
     "execution_count": 55,
     "metadata": {},
     "output_type": "execute_result"
    }
   ],
   "source": [
    "# YOUR CODE HERE\n",
    "n = (2**18)*(2**19 - 1)\n",
    "#print_factors(n)\n",
    "print_factors((2**19-1))\n",
    "print_factors(2**18)\n",
    "# find them separately and see if the second part of the output is equal to n"
   ]
  },
  {
   "cell_type": "markdown",
   "metadata": {},
   "source": [
    "# Wallis product\n",
    "\n",
    "The *Wallis* sequence is defined through\n",
    "\\begin{equation}\n",
    "  W(n) = \\prod_{k=1}^n \\frac{2k}{2k-1} \\;\\frac{2k}{2k+1}\n",
    "\\end{equation}\n",
    "a) Write a Python function `W(n)` which returns the n'th element of the Wallis sequence. Calculate W(1) and W(10). "
   ]
  },
  {
   "cell_type": "code",
   "execution_count": 69,
   "metadata": {
    "deletable": false,
    "nbgrader": {
     "cell_type": "code",
     "checksum": "3549b8e3cec121ca9dffd1a7582e3ee5",
     "grade": false,
     "grade_id": "cell-9d9450f8e010d06f",
     "locked": false,
     "schema_version": 3,
     "solution": true,
     "task": false
    }
   },
   "outputs": [
    {
     "data": {
      "text/plain": [
       "1.3333333333333333"
      ]
     },
     "execution_count": 69,
     "metadata": {},
     "output_type": "execute_result"
    }
   ],
   "source": [
    "# YOUR CODE HERE\n",
    "def W(n):\n",
    "    out = 1\n",
    "    for k in range(1, n+1):\n",
    "        first = (2*k) / (2*k - 1)\n",
    "        second = (2*k) / (2*k + 1)\n",
    "        out *= (first * second)\n",
    "    return out\n",
    "W(1)"
   ]
  },
  {
   "cell_type": "code",
   "execution_count": 70,
   "metadata": {
    "deletable": false,
    "editable": false,
    "nbgrader": {
     "cell_type": "code",
     "checksum": "f94c8322e82dc3f2e0c87b1003fd8fbe",
     "grade": true,
     "grade_id": "cell-0eafa1cbcf8fc31a",
     "locked": true,
     "points": 0,
     "schema_version": 3,
     "solution": false,
     "task": false
    }
   },
   "outputs": [],
   "source": [
    "assert(abs(W(1) - 4/3)< 1.0e-16)\n",
    "assert(abs(W(10) - 1.53385)< 1.0e-4)"
   ]
  },
  {
   "cell_type": "markdown",
   "metadata": {},
   "source": [
    "b) It is known that \n",
    "\\begin{equation}\n",
    "\\lim_{n\\to \\infty}  2 W(n)= \\pi \\approx 3.1415926535897932\n",
    "\\end{equation}\n",
    "Roughly (up to a factor of 10) determine $n$, which produces the first three digits 3.14 of $\\pi$ correctly. How high do you need to go to get the first six digits?"
   ]
  },
  {
   "cell_type": "code",
   "execution_count": 91,
   "metadata": {
    "deletable": false,
    "nbgrader": {
     "cell_type": "code",
     "checksum": "3cca0e35434eb09f95ac5363056061db",
     "grade": true,
     "grade_id": "cell-4cf3f8255b659f85",
     "locked": false,
     "points": 0,
     "schema_version": 3,
     "solution": true,
     "task": false
    }
   },
   "outputs": [
    {
     "name": "stdout",
     "output_type": "stream",
     "text": [
      "30000 3.1415664741963476\n",
      "40000 3.1415730189423545\n",
      "50000 3.141576945822721\n",
      "60000 3.1415795637565753\n",
      "70000 3.1415814337160595\n",
      "80000 3.141582836189326\n",
      "90000 3.141583927003995\n",
      "100000 3.1415847996570205\n",
      "110000 3.141585513646858\n",
      "120000 3.1415861086389474\n",
      "130000 3.1415866120942066\n",
      "140000 3.1415870436275823\n",
      "150000 3.1415874176234904\n",
      "160000 3.1415877448701357\n",
      "170000 3.141588033617258\n",
      "180000 3.1415882902814944\n",
      "190000 3.1415885199285674\n",
      "200000 3.1415887266109324\n",
      "210000 3.1415889136093\n",
      "220000 3.1415890836079097\n",
      "230000 3.1415892388241113\n",
      "240000 3.1415893811056357\n",
      "250000 3.1415895120047135\n",
      "260000 3.1415896328345707\n",
      "270000 3.141589744714059\n",
      "280000 3.1415898486022313\n",
      "290000 3.1415899453256544\n",
      "300000 3.141590035600933\n",
      "310000 3.141590120052062\n",
      "320000 3.14159019922495\n",
      "330000 3.1415902735994807\n",
      "340000 3.1415903435990145\n",
      "350000 3.1415904095986042\n",
      "360000 3.141590471931518\n",
      "370000 3.1415905308951446\n",
      "380000 3.1415905867554317\n",
      "390000 3.1415906397511484\n",
      "400000 3.1415906900969865\n",
      "410000 3.141590737986932\n",
      "420000 3.1415907835964543\n",
      "430000 3.1415908270845874\n",
      "440000 3.141590868595944\n",
      "450000 3.1415909082624256\n",
      "460000 3.14159094620426\n",
      "470000 3.1415909825315937\n",
      "480000 3.1415910173452697\n",
      "490000 3.1415910507379796\n"
     ]
    }
   ],
   "source": [
    "# YOUR CODE HERE\n",
    "for i in range(30000, 500000, 10000):\n",
    "    print(i, 2 * W(i))\n",
    "# you need something around 30k to get 3.14159"
   ]
  },
  {
   "cell_type": "code",
   "execution_count": null,
   "metadata": {},
   "outputs": [],
   "source": []
  }
 ],
 "metadata": {
  "kernelspec": {
   "display_name": "Python 3",
   "language": "python",
   "name": "python3"
  },
  "language_info": {
   "codemirror_mode": {
    "name": "ipython",
    "version": 3
   },
   "file_extension": ".py",
   "mimetype": "text/x-python",
   "name": "python",
   "nbconvert_exporter": "python",
   "pygments_lexer": "ipython3",
   "version": "3.7.4"
  }
 },
 "nbformat": 4,
 "nbformat_minor": 1
}
