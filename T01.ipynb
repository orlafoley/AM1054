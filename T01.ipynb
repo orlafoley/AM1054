{
 "cells": [
  {
   "cell_type": "markdown",
   "metadata": {},
   "source": [
    "# Think before you execute"
   ]
  },
  {
   "cell_type": "markdown",
   "metadata": {},
   "source": [
    "Try to figure out, what the following code snippets do, without executing them! Write down your answer. Then check your answer by executing the code. \n",
    "\n",
    "1. <!-- -->\n",
    "    \n",
    "        a = \"2.0\"\n",
    "        a = a + str(5)\n",
    "        print(2*float(a))\n"
   ]
  },
  {
   "cell_type": "code",
   "execution_count": 1,
   "metadata": {
    "deletable": false,
    "nbgrader": {
     "cell_type": "code",
     "checksum": "1a00257063237bf7b7c065ea465fb785",
     "grade": true,
     "grade_id": "cell-be0729256cf95269",
     "locked": false,
     "points": 0,
     "schema_version": 3,
     "solution": true
    }
   },
   "outputs": [
    {
     "name": "stdout",
     "output_type": "stream",
     "text": [
      "4.1\n"
     ]
    }
   ],
   "source": [
    "# YOUR CODE HERE\n",
    "a = \"2.0\"\n",
    "# a is now '2.0'\n",
    "a = a + str(5)\n",
    "# a is now '2.05'\n",
    "print(2*float(a))\n",
    "# '2.05' -> 2.05\n",
    "# 2 * 2.05 = 4.1"
   ]
  },
  {
   "cell_type": "markdown",
   "metadata": {},
   "source": [
    "2. <!-- -->\n",
    "\n",
    "        print(-2 ** -2)\n",
    "        print( (-2) ** -2)"
   ]
  },
  {
   "cell_type": "code",
   "execution_count": 2,
   "metadata": {
    "deletable": false,
    "nbgrader": {
     "cell_type": "code",
     "checksum": "a26d058802d2d2d9ce2ca93453e749c6",
     "grade": true,
     "grade_id": "cell-3c9c4089fb7764ba",
     "locked": false,
     "points": 0,
     "schema_version": 3,
     "solution": true
    }
   },
   "outputs": [
    {
     "name": "stdout",
     "output_type": "stream",
     "text": [
      "-0.25\n",
      "0.25\n"
     ]
    }
   ],
   "source": [
    "# YOUR CODE HERE\n",
    "print(-2 ** -2)\n",
    "# 2^(-2) = 1/4\n",
    "# apply - sign which is -1/4 = -0.25\n",
    "print( (-2) ** -2)\n",
    "# brackets essentially negate the chance of a negative sign so 0.25"
   ]
  },
  {
   "cell_type": "markdown",
   "metadata": {},
   "source": [
    "3. <!-- -->\n",
    "\n",
    "        print(7 ** 0)\n",
    "        print(0 ** 0.001)\n",
    "        print(0 ** 0.00)\n"
   ]
  },
  {
   "cell_type": "code",
   "execution_count": 3,
   "metadata": {
    "deletable": false,
    "nbgrader": {
     "cell_type": "code",
     "checksum": "bb9d426580debc5556e958e864616776",
     "grade": true,
     "grade_id": "cell-76c828d44c157d7b",
     "locked": false,
     "points": 0,
     "schema_version": 3,
     "solution": true
    }
   },
   "outputs": [
    {
     "name": "stdout",
     "output_type": "stream",
     "text": [
      "1\n",
      "0.0\n",
      "1.0\n"
     ]
    }
   ],
   "source": [
    "# YOUR CODE HERE\n",
    "print(7 ** 0)\n",
    "# anything^0 = 1\n",
    "print(0 ** 0.001)\n",
    "# 0^(not zero) = 0\n",
    "print(0 ** 0.00)\n",
    "# anything^0 = 1"
   ]
  },
  {
   "cell_type": "markdown",
   "metadata": {},
   "source": [
    "4. <!-- -->\n",
    "\n",
    "        b = []\n",
    "        print(len(b))\n",
    "        print(b[0])"
   ]
  },
  {
   "cell_type": "code",
   "execution_count": 1,
   "metadata": {
    "deletable": false,
    "nbgrader": {
     "cell_type": "code",
     "checksum": "78227431b9ce64cd10534263128ea3e1",
     "grade": true,
     "grade_id": "cell-860941000c2e7fd9",
     "locked": false,
     "points": 0,
     "schema_version": 3,
     "solution": true
    }
   },
   "outputs": [
    {
     "name": "stdout",
     "output_type": "stream",
     "text": [
      "0\n"
     ]
    }
   ],
   "source": [
    "b = []\n",
    "# empty list\n",
    "print(len(b))\n",
    "# length of nothing is 0\n",
    "#print(b[0])\n",
    "# will cause an error as list is empty"
   ]
  },
  {
   "cell_type": "markdown",
   "metadata": {},
   "source": [
    "5. <!-- -->\n",
    "\n",
    "        c = [3,1]\n",
    "        c.append(2)\n",
    "        print(c[-2])"
   ]
  },
  {
   "cell_type": "code",
   "execution_count": 5,
   "metadata": {
    "deletable": false,
    "nbgrader": {
     "cell_type": "code",
     "checksum": "3c24295e3a2b485ba552531428be3570",
     "grade": true,
     "grade_id": "cell-d0ce3004662bedfb",
     "locked": false,
     "points": 0,
     "schema_version": 3,
     "solution": true
    }
   },
   "outputs": [
    {
     "name": "stdout",
     "output_type": "stream",
     "text": [
      "1\n"
     ]
    }
   ],
   "source": [
    "c = [3,1]\n",
    "# list is [3,1]\n",
    "c.append(2)\n",
    "# list is [3,1,2]\n",
    "print(c[-2])\n",
    "# last c[-1] is 2\n",
    "# second last is 1\n",
    "# 1 is printed"
   ]
  },
  {
   "cell_type": "markdown",
   "metadata": {},
   "source": [
    "6. <!-- -->\n",
    "\n",
    "        a = 20\n",
    "        while a >= 10:\n",
    "            a = a-2\n",
    "            print(a)\n"
   ]
  },
  {
   "cell_type": "code",
   "execution_count": 6,
   "metadata": {
    "deletable": false,
    "nbgrader": {
     "cell_type": "code",
     "checksum": "14d87bf31480da313aeaad4e59552948",
     "grade": true,
     "grade_id": "cell-8771237fdee29144",
     "locked": false,
     "points": 0,
     "schema_version": 3,
     "solution": true
    }
   },
   "outputs": [
    {
     "name": "stdout",
     "output_type": "stream",
     "text": [
      "18\n",
      "16\n",
      "14\n",
      "12\n",
      "10\n",
      "8\n"
     ]
    }
   ],
   "source": [
    "a = 20\n",
    "while a >= 10:\n",
    "    a = a-2\n",
    "    print(a)\n",
    "# prints 18 to 8 inclusive descending in steps of 2"
   ]
  },
  {
   "cell_type": "markdown",
   "metadata": {},
   "source": [
    "7. <!-- -->\n",
    "\n",
    "        mylist = [1]\n",
    "        while mylist[-1] < 100:\n",
    "            mylist.append( (mylist[-1]+1)**2 )\n",
    "        print(mylist)"
   ]
  },
  {
   "cell_type": "code",
   "execution_count": 7,
   "metadata": {
    "deletable": false,
    "nbgrader": {
     "cell_type": "code",
     "checksum": "7947e69ef1304b15533fd2fb7659bcc5",
     "grade": true,
     "grade_id": "cell-718cf4d2b371dfd9",
     "locked": false,
     "points": 0,
     "schema_version": 3,
     "solution": true
    }
   },
   "outputs": [
    {
     "name": "stdout",
     "output_type": "stream",
     "text": [
      "[1, 4, 25, 676]\n"
     ]
    }
   ],
   "source": [
    "mylist = [1]\n",
    "while mylist[-1] < 100:\n",
    "    mylist.append( (mylist[-1]+1)**2 )\n",
    "print(mylist)\n",
    "# keep going until the last element in the list is bigger than 100\n",
    "# take the last element (1) and add one to it (2)\n",
    "# square it (4) and add it to the list\n",
    "# repeat until specified condition met"
   ]
  },
  {
   "cell_type": "markdown",
   "metadata": {},
   "source": [
    "# Guess before you execute"
   ]
  },
  {
   "cell_type": "markdown",
   "metadata": {},
   "source": [
    "Can you *guess* what the following snippets are doing? Check by executing. \n",
    "\n",
    "1. <!-- -->\n",
    "\n",
    "        list1 = [2,9]\n",
    "        list2 = [3,7]\n",
    "        list3 = list1 + list2\n",
    "        print(list3)\n"
   ]
  },
  {
   "cell_type": "code",
   "execution_count": 8,
   "metadata": {
    "deletable": false,
    "nbgrader": {
     "cell_type": "code",
     "checksum": "f8229adf441b159d515c8191d6c27d86",
     "grade": true,
     "grade_id": "cell-989bdd49836a04c7",
     "locked": false,
     "points": 0,
     "schema_version": 3,
     "solution": true
    }
   },
   "outputs": [
    {
     "name": "stdout",
     "output_type": "stream",
     "text": [
      "[2, 9, 3, 7]\n"
     ]
    }
   ],
   "source": [
    "list1 = [2,9]\n",
    "list2 = [3,7]\n",
    "list3 = list1 + list2\n",
    "print(list3)\n",
    "# concatenate two lists"
   ]
  },
  {
   "cell_type": "markdown",
   "metadata": {},
   "source": [
    "2. <!-- -->\n",
    "\n",
    "        print(\"ABC\" * 5)\n"
   ]
  },
  {
   "cell_type": "code",
   "execution_count": 9,
   "metadata": {
    "deletable": false,
    "nbgrader": {
     "cell_type": "code",
     "checksum": "a5afd1219fa20354059c6474adaafa44",
     "grade": true,
     "grade_id": "cell-a9e7929b3c34bc56",
     "locked": false,
     "points": 0,
     "schema_version": 3,
     "solution": true
    }
   },
   "outputs": [
    {
     "name": "stdout",
     "output_type": "stream",
     "text": [
      "ABCABCABCABCABC\n"
     ]
    }
   ],
   "source": [
    "print(\"ABC\" * 5)\n",
    "# string concatenation ABCABC..."
   ]
  },
  {
   "cell_type": "markdown",
   "metadata": {},
   "source": [
    "3. <!-- -->\n",
    "\n",
    "        print(\"0.2\" * 5)\n"
   ]
  },
  {
   "cell_type": "code",
   "execution_count": 10,
   "metadata": {
    "deletable": false,
    "nbgrader": {
     "cell_type": "code",
     "checksum": "dd4b3317315750d4f555264b00989cbb",
     "grade": true,
     "grade_id": "cell-39906673e9e2286b",
     "locked": false,
     "points": 0,
     "schema_version": 3,
     "solution": true
    }
   },
   "outputs": [
    {
     "name": "stdout",
     "output_type": "stream",
     "text": [
      "0.20.20.20.20.2\n"
     ]
    }
   ],
   "source": [
    "print(\"0.2\" * 5)\n",
    "# 0.20.2...."
   ]
  },
  {
   "cell_type": "markdown",
   "metadata": {},
   "source": [
    "4. <!-- -->\n",
    "\n",
    "        print(18 % 7)\n"
   ]
  },
  {
   "cell_type": "code",
   "execution_count": 11,
   "metadata": {
    "deletable": false,
    "nbgrader": {
     "cell_type": "code",
     "checksum": "2f9afeaa9cf63773f7345602075f28bf",
     "grade": true,
     "grade_id": "cell-a73f09cf00df4aa9",
     "locked": false,
     "points": 0,
     "schema_version": 3,
     "solution": true
    }
   },
   "outputs": [
    {
     "name": "stdout",
     "output_type": "stream",
     "text": [
      "4\n"
     ]
    }
   ],
   "source": [
    "print(18 % 7)\n",
    "# 18/7 = 2 remainder 4\n",
    "# print remainder"
   ]
  },
  {
   "cell_type": "markdown",
   "metadata": {},
   "source": [
    "5. <!-- -->\n",
    "\n",
    "        print(round(16.6))\n"
   ]
  },
  {
   "cell_type": "code",
   "execution_count": 12,
   "metadata": {
    "deletable": false,
    "nbgrader": {
     "cell_type": "code",
     "checksum": "61052b2c3d73ebe92ab2c29dff5ba999",
     "grade": true,
     "grade_id": "cell-caa8a9ef0de7442b",
     "locked": false,
     "points": 0,
     "schema_version": 3,
     "solution": true
    }
   },
   "outputs": [
    {
     "name": "stdout",
     "output_type": "stream",
     "text": [
      "17\n"
     ]
    }
   ],
   "source": [
    "print(round(16.6))\n",
    "# round 16.6 to a whole number\n",
    "# closer to 17 than 16"
   ]
  },
  {
   "cell_type": "markdown",
   "metadata": {},
   "source": [
    "6. <!-- -->\n",
    "\n",
    "        print( abs(-3) )\n"
   ]
  },
  {
   "cell_type": "code",
   "execution_count": 13,
   "metadata": {
    "deletable": false,
    "nbgrader": {
     "cell_type": "code",
     "checksum": "070ff78c32fd7dcba1513d7e028dea51",
     "grade": true,
     "grade_id": "cell-2c80c08331b2f2ae",
     "locked": false,
     "points": 0,
     "schema_version": 3,
     "solution": true
    }
   },
   "outputs": [
    {
     "name": "stdout",
     "output_type": "stream",
     "text": [
      "3\n"
     ]
    }
   ],
   "source": [
    "print( abs(-3) )\n",
    "# think of v shaped graph\n",
    "# take the absolute value of -3\n",
    "# think of the length or something - can't be negative"
   ]
  },
  {
   "cell_type": "markdown",
   "metadata": {},
   "source": [
    "7. <!-- -->\n",
    "\n",
    "        mylist = [7,2,-3,18,2]\n",
    "        print(min(mylist))\n",
    "        print(max(mylist))\n",
    "        print( sorted(mylist) )\n",
    "        "
   ]
  },
  {
   "cell_type": "code",
   "execution_count": 14,
   "metadata": {
    "deletable": false,
    "nbgrader": {
     "cell_type": "code",
     "checksum": "158f31e1ed111e15d54443e66f912361",
     "grade": true,
     "grade_id": "cell-6992b82f5474c580",
     "locked": false,
     "points": 0,
     "schema_version": 3,
     "solution": true
    }
   },
   "outputs": [
    {
     "name": "stdout",
     "output_type": "stream",
     "text": [
      "-3\n",
      "18\n",
      "[-3, 2, 2, 7, 18]\n"
     ]
    }
   ],
   "source": [
    "mylist = [7,2,-3,18,2]\n",
    "print(min(mylist))\n",
    "# what's the smallest value in the list?\n",
    "print(max(mylist))\n",
    "# what's the largest value in the list?\n",
    "print( sorted(mylist) )\n",
    "# sort list from small to large"
   ]
  },
  {
   "cell_type": "markdown",
   "metadata": {},
   "source": [
    "# Perrin Numbers"
   ]
  },
  {
   "cell_type": "markdown",
   "metadata": {},
   "source": [
    "The [Perrin numbers](https://en.wikipedia.org/wiki/Perrin_number) are defined via the recurrence relation $$P(0) = 3,\\quad P(1) = 0,\\quad P(2) = 2$$ and $$P(n) = P(n − 2) + P(n − 3)\\quad \\text{ for }\\quad n > 2.$$ Calculate the first 20 Perrin numbers."
   ]
  },
  {
   "cell_type": "code",
   "execution_count": 15,
   "metadata": {
    "deletable": false,
    "nbgrader": {
     "cell_type": "code",
     "checksum": "df8dc325820bc49974c3448ee944c91e",
     "grade": true,
     "grade_id": "cell-f525f6e3bfa1113d",
     "locked": false,
     "points": 0,
     "schema_version": 3,
     "solution": true
    }
   },
   "outputs": [
    {
     "data": {
      "text/plain": [
       "[3,\n",
       " 0,\n",
       " 2,\n",
       " 3,\n",
       " 2,\n",
       " 5,\n",
       " 5,\n",
       " 7,\n",
       " 10,\n",
       " 12,\n",
       " 17,\n",
       " 22,\n",
       " 29,\n",
       " 39,\n",
       " 51,\n",
       " 68,\n",
       " 90,\n",
       " 119,\n",
       " 158,\n",
       " 209,\n",
       " 277]"
      ]
     },
     "execution_count": 15,
     "metadata": {},
     "output_type": "execute_result"
    }
   ],
   "source": [
    "def Perrin(n):\n",
    "    Perrin_list = [3, 0, 2]\n",
    "    for i in range(3, n+1):\n",
    "        x = Perrin_list[-2] + Perrin_list[-3]\n",
    "        Perrin_list += [x]\n",
    "    return Perrin_list"
   ]
  },
  {
   "cell_type": "code",
   "execution_count": null,
   "metadata": {},
   "outputs": [],
   "source": []
  }
 ],
 "metadata": {
  "kernelspec": {
   "display_name": "Python 3",
   "language": "python",
   "name": "python3"
  },
  "language_info": {
   "codemirror_mode": {
    "name": "ipython",
    "version": 3
   },
   "file_extension": ".py",
   "mimetype": "text/x-python",
   "name": "python",
   "nbconvert_exporter": "python",
   "pygments_lexer": "ipython3",
   "version": "3.7.4"
  }
 },
 "nbformat": 4,
 "nbformat_minor": 1
}
