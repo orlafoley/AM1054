{
 "cells": [
  {
   "cell_type": "markdown",
   "metadata": {},
   "source": [
    "# Think before you execute"
   ]
  },
  {
   "cell_type": "markdown",
   "metadata": {},
   "source": [
    "Try to figure out, what the following code snippets do, without executing them! Write down your answer. Then check your answer by executing the code. \n",
    "\n",
    "A great resource for exceuting snippets of code is also [pythontutor.com](http://pythontutor.com/). You can c&p your snippets to their website and execute through them step by step. At every step all used variables are updated and displayed."
   ]
  },
  {
   "cell_type": "code",
   "execution_count": 1,
   "metadata": {},
   "outputs": [
    {
     "name": "stdout",
     "output_type": "stream",
     "text": [
      "12\n"
     ]
    }
   ],
   "source": [
    "a = 2\n",
    "for k in [5,3,1]:\n",
    "    a = a + k\n",
    "a = a + k\n",
    "print(a)\n",
    "# a=7 first time (2+5=7)\n",
    "# 7+3=10\n",
    "# 10+1=11\n",
    "# for loop finishes, k=1, unindent\n",
    "# 11+1=12\n",
    "# 12 is printed"
   ]
  },
  {
   "cell_type": "markdown",
   "metadata": {},
   "source": [
    "Do the same for the following snippet. What changes, if you indent/de-indent the fourth/fifth line by one level?"
   ]
  },
  {
   "cell_type": "code",
   "execution_count": 2,
   "metadata": {},
   "outputs": [
    {
     "name": "stdout",
     "output_type": "stream",
     "text": [
      "4\n"
     ]
    }
   ],
   "source": [
    "a = 2\n",
    "for k in [5,3,1]:\n",
    "    if k == 3:\n",
    "        a=0\n",
    "    a = a + k\n",
    "print(a)\n",
    "# k is not 3 first time, skips to next k, a=7\n",
    "# k=3, a = 0, 3+0=3\n",
    "# k = 1, a=3+1=4"
   ]
  },
  {
   "cell_type": "markdown",
   "metadata": {},
   "source": [
    "## Indexing\n",
    "\n",
    "What is the result of the following snippets?"
   ]
  },
  {
   "cell_type": "code",
   "execution_count": 8,
   "metadata": {},
   "outputs": [
    {
     "name": "stdout",
     "output_type": "stream",
     "text": [
      "2\n",
      "4\n",
      "7\n",
      "49\n",
      "[1, 4, 3, 4, 5, 6, 49, 8]\n"
     ]
    }
   ],
   "source": [
    "myrange = list(range(10))\n",
    "# a list of numbers from 0-9 (computer starts counting at 0)\n",
    "# myrange = [0,1,2,3,4,5,6,7,8,9]\n",
    "for i in [2,7]:\n",
    "    myrange[i] = i**2\n",
    "    # replace the 3rd and 8th element of the list with 4 and 49 respectively\n",
    "    print(i)\n",
    "    # print 2 then 7\n",
    "    print(myrange[i])\n",
    "    # print 4 then 49\n",
    "# myrange = [0,1,4,3,4,5,6,49,8,9]\n",
    "mylist = myrange[1:-1]\n",
    "# mylist = [1,4,3,4,5,6,49,8]\n",
    "# slice out first and last from myrange\n",
    "print(mylist)\n",
    "# print [1,4,3,4,5,6,49,8]"
   ]
  },
  {
   "cell_type": "code",
   "execution_count": 9,
   "metadata": {},
   "outputs": [
    {
     "name": "stdout",
     "output_type": "stream",
     "text": [
      "[0, 1, 4, 9, 16, 25, 36, 49, 64, 81, 100]\n",
      "[9, 16, 25, 36]\n",
      "[0, 4, 16, 36, 64, 100]\n",
      "[100, 64, 36, 16, 4, 0]\n",
      "[16, 4, 0]\n"
     ]
    }
   ],
   "source": [
    "mylist = []\n",
    "# create a list\n",
    "for i in range(11):\n",
    "    mylist.append(i**2)\n",
    "# my list squares numbers from 0 to 10 inclusive\n",
    "print(mylist)\n",
    "# prints [0, 1, 4, 9, 16, 25, 36, 49, 64, 81, 100]\n",
    "print(mylist[3:7])\n",
    "# goes from element 4 to element 7 inclusive\n",
    "print(mylist[::2])\n",
    "# print every second item\n",
    "print(mylist[::-2])\n",
    "# print every second item in reverse\n",
    "print(mylist[4::-2])\n",
    "# start at 5th element (index 4) and go back every second item"
   ]
  },
  {
   "cell_type": "markdown",
   "metadata": {},
   "source": [
    "## Summation\n",
    "\n",
    "Calculate the sum \n",
    "\\begin{equation}\n",
    "\\sum_{i=1}^{100} \\frac{1}{i}\n",
    "\\end{equation}\n",
    "in two different ways, first with a `for` loop and then using a `while` loop.  Which one do you prefer?"
   ]
  },
  {
   "cell_type": "code",
   "execution_count": 17,
   "metadata": {
    "deletable": false,
    "nbgrader": {
     "cell_type": "code",
     "checksum": "061dd846f0f6eecd911ad05ca3163186",
     "grade": true,
     "grade_id": "cell-a0c8d50fe83c73c0",
     "locked": false,
     "points": 0,
     "schema_version": 3,
     "solution": true
    }
   },
   "outputs": [
    {
     "name": "stdout",
     "output_type": "stream",
     "text": [
      "5.187377517639621\n"
     ]
    }
   ],
   "source": [
    "# YOUR CODE HERE\n",
    "summation = 0\n",
    "for i in range(1,101):\n",
    "    summation += 1/i\n",
    "print(summation)"
   ]
  },
  {
   "cell_type": "code",
   "execution_count": 18,
   "metadata": {
    "deletable": false,
    "nbgrader": {
     "cell_type": "code",
     "checksum": "346dd3bd5a763a1680822a7ac3e82b42",
     "grade": true,
     "grade_id": "cell-a0c8d50fe83c5s3c0",
     "locked": false,
     "points": 0,
     "schema_version": 3,
     "solution": true
    }
   },
   "outputs": [
    {
     "name": "stdout",
     "output_type": "stream",
     "text": [
      "5.187377517639621\n"
     ]
    }
   ],
   "source": [
    "# YOUR CODE HERE\n",
    "acc = 0\n",
    "i=0\n",
    "while i <= 99:\n",
    "    i+=1\n",
    "    acc+=1/i\n",
    "print(acc)"
   ]
  },
  {
   "cell_type": "markdown",
   "metadata": {},
   "source": [
    "## Factorials\n",
    "write a loop which prints out \n",
    "\n",
    "    0! = 1\n",
    "    1! = 1\n",
    "    2! = 2\n",
    "    \n",
    "and so on until $10!$"
   ]
  },
  {
   "cell_type": "code",
   "execution_count": 12,
   "metadata": {
    "deletable": false,
    "nbgrader": {
     "cell_type": "code",
     "checksum": "bfdb0d2c6b5b55e80715c54813ffaff9",
     "grade": true,
     "grade_id": "cell-350f41fbef7b858f",
     "locked": false,
     "points": 0,
     "schema_version": 3,
     "solution": true
    }
   },
   "outputs": [
    {
     "data": {
      "text/plain": [
       "479001600"
      ]
     },
     "execution_count": 12,
     "metadata": {},
     "output_type": "execute_result"
    }
   ],
   "source": [
    "# YOUR CODE HERE\n",
    "def fac(n):\n",
    "    out = 1\n",
    "    for i in range(0,n+1):\n",
    "        out *= i + 1\n",
    "    return out\n",
    "fac(11)"
   ]
  },
  {
   "cell_type": "markdown",
   "metadata": {},
   "source": [
    "Now calculate\n",
    "\\begin{equation}\n",
    "\\sum_{i=0}^{10} \\frac{1}{i!} \\approx e\n",
    "\\end{equation}"
   ]
  },
  {
   "cell_type": "code",
   "execution_count": 15,
   "metadata": {
    "deletable": false,
    "nbgrader": {
     "cell_type": "code",
     "checksum": "68f3aa4ffa21d35075829ea7d4e49b84",
     "grade": true,
     "grade_id": "cell-f42dbb0244998497",
     "locked": false,
     "points": 0,
     "schema_version": 3,
     "solution": true
    }
   },
   "outputs": [
    {
     "data": {
      "text/plain": [
       "1.7182818261984931"
      ]
     },
     "execution_count": 15,
     "metadata": {},
     "output_type": "execute_result"
    }
   ],
   "source": [
    "# YOUR CODE HERE\n",
    "def sum_e(n):\n",
    "    out = 0\n",
    "    for i in range(0, n+1):\n",
    "        out += 1 / fac(i)\n",
    "    return out\n",
    "sum_e(10)"
   ]
  },
  {
   "cell_type": "markdown",
   "metadata": {},
   "source": [
    "Also try\n",
    "\\begin{equation}\n",
    "\\sum_{i=0}^{10} \\frac{2^i}{i!} \\approx e^2\n",
    "\\end{equation}"
   ]
  },
  {
   "cell_type": "code",
   "execution_count": 17,
   "metadata": {
    "deletable": false,
    "nbgrader": {
     "cell_type": "code",
     "checksum": "f4639c15904a4da95ab39afc27033644",
     "grade": true,
     "grade_id": "cell-81a21f20029eaaf9",
     "locked": false,
     "points": 0,
     "schema_version": 3,
     "solution": true
    }
   },
   "outputs": [
    {
     "data": {
      "text/plain": [
       "3.1945230078563407"
      ]
     },
     "execution_count": 17,
     "metadata": {},
     "output_type": "execute_result"
    }
   ],
   "source": [
    "# YOUR CODE HERE\n",
    "def sum_e_squared(n):\n",
    "    out = 0\n",
    "    for i in range(0, n+1):\n",
    "        out += (2**i) / fac(i)\n",
    "    return out\n",
    "sum_e_squared(10)"
   ]
  },
  {
   "cell_type": "markdown",
   "metadata": {},
   "source": [
    "## Double loop\n",
    "\n",
    "try to guess the output of the following snippet, before you execute the cell:"
   ]
  },
  {
   "cell_type": "code",
   "execution_count": 16,
   "metadata": {},
   "outputs": [
    {
     "name": "stdout",
     "output_type": "stream",
     "text": [
      "0 0\n",
      "0 1\n",
      "0 2\n",
      "1 0\n",
      "1 1\n",
      "1 2\n",
      "2 0\n",
      "2 1\n",
      "2 2\n"
     ]
    }
   ],
   "source": [
    "for i in range(3):\n",
    "    for j in range(3):\n",
    "        print(i,j)\n",
    "# will take i and j values as 0, 1, 2\n",
    "# takes the first i (0 here) and pairs it up with 3 j values\n",
    "# jumps back out and takes next i (1) and pairs it up with 3 j values\n",
    "# jumps back out for a final time takes i (2) and pairs it up with 3 j values - (2 0), (2 1), (2 2)"
   ]
  },
  {
   "cell_type": "markdown",
   "metadata": {},
   "source": [
    "Now use Python to calculate\n",
    "\\begin{equation}\n",
    "\\sum_{i=1}^{10} \\sum_{j=1}^{10} \\frac{1}{i+j}\n",
    "\\end{equation}"
   ]
  },
  {
   "cell_type": "code",
   "execution_count": 22,
   "metadata": {
    "deletable": false,
    "nbgrader": {
     "cell_type": "code",
     "checksum": "951eebd5de9ba6215809c7ef9b173bc6",
     "grade": true,
     "grade_id": "cell-ffb0c361c01bcf7c",
     "locked": false,
     "points": 0,
     "schema_version": 3,
     "solution": true
    }
   },
   "outputs": [
    {
     "data": {
      "text/plain": [
       "11.11523121271573"
      ]
     },
     "execution_count": 22,
     "metadata": {},
     "output_type": "execute_result"
    }
   ],
   "source": [
    "# YOUR CODE HERE\n",
    "def double_sigma(n):\n",
    "    out = 0\n",
    "    for i in range(1, n+1):\n",
    "        for j in range(1, n+1):\n",
    "            out += 1 / (i + j)\n",
    "    return out\n",
    "double_sigma(10)"
   ]
  },
  {
   "cell_type": "markdown",
   "metadata": {},
   "source": [
    "## [Fibonacci words](https://en.wikipedia.org/wiki/Fibonacci_word)\n",
    "\n",
    "consider a sequence $S_n$ of words which is made up of words of the two letters `0` and `1` according to the following rules:\n",
    "\n",
    "- $S_0 = 0$\n",
    "- $S_1 = 01$\n",
    "- $S_2 = S_1 S_0 = 010$\n",
    "- $\\ldots$\n",
    "- $S_n = S_{n-1}S_{n-2}$\n",
    "\n",
    "calculate a list of the first 15 Fibonacci words"
   ]
  },
  {
   "cell_type": "code",
   "execution_count": 29,
   "metadata": {
    "deletable": false,
    "nbgrader": {
     "cell_type": "code",
     "checksum": "69a8cf42e420696f90287cd78734ccc5",
     "grade": true,
     "grade_id": "cell-3d586c1963510057",
     "locked": false,
     "points": 0,
     "schema_version": 3,
     "solution": true
    }
   },
   "outputs": [],
   "source": [
    "# YOUR CODE HERE\n",
    "def S(n):\n",
    "    S0 = '0'\n",
    "    S1 = '01'\n",
    "    out = [S0, S1]\n",
    "    for i in range(n+1):\n",
    "        out += [out[-1] + out[-2]]\n",
    "    return out\n",
    "fib_words_15 = S(15)"
   ]
  },
  {
   "cell_type": "markdown",
   "metadata": {},
   "source": [
    "# Guess before you execute"
   ]
  },
  {
   "cell_type": "code",
   "execution_count": 23,
   "metadata": {},
   "outputs": [
    {
     "name": "stdout",
     "output_type": "stream",
     "text": [
      "[0, 2, 3, 4, 6, 8, 9]\n"
     ]
    }
   ],
   "source": [
    "mylist = []\n",
    "for k in range(10):\n",
    "    if k % 2 == 0:\n",
    "        mylist.append(k)\n",
    "    elif k % 3 == 0:\n",
    "        mylist.append(k)\n",
    "print(mylist)\n",
    "# for every number in range 0 to 9 if you can divide it by 2 or 3 evenly, add to list\n",
    "# print said list"
   ]
  },
  {
   "cell_type": "markdown",
   "metadata": {},
   "source": [
    "Explain, how this works!"
   ]
  }
 ],
 "metadata": {
  "kernelspec": {
   "display_name": "Python 3",
   "language": "python",
   "name": "python3"
  },
  "language_info": {
   "codemirror_mode": {
    "name": "ipython",
    "version": 3
   },
   "file_extension": ".py",
   "mimetype": "text/x-python",
   "name": "python",
   "nbconvert_exporter": "python",
   "pygments_lexer": "ipython3",
   "version": "3.7.4"
  }
 },
 "nbformat": 4,
 "nbformat_minor": 1
}
